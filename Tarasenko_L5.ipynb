{
 "cells": [
  {
   "cell_type": "markdown",
   "metadata": {},
   "source": [
    "## Лабораторная работа №5\n",
    "\n",
    "### Тарасенко Андрей, БПМ161, Вариант 23\n",
    "\n",
    "#### Задание 5.1.23"
   ]
  },
  {
   "cell_type": "markdown",
   "metadata": {},
   "source": [
    "Функция $y = f(x)$ задана таблицей значений $y_{0}, y_{1}, \\ldots, y_{n}$ в точках $x_{0}, x_{1}, \\ldots, x_{n}$. Используя метод\n",
    "наименьших квадратов (МНК), найти многочлен $P_{m}(x) = a_{0} + a_{1}x + \\ldots + a_{m}x^m$ наилучшего среднеквадратичного приближения оптимальной степени $m = m^*$. За оптимальное значение $m^*$ принять ту\n",
    "степень многочлена, начиная с которой величина $\\sigma_{m} = \\sqrt{\\frac{1}{n - m} \\sum_{k = 0}^{n} (P_{m}(x_{k}) - y_{k})^2}$ стабилизируется или начинает возрастать. "
   ]
  },
  {
   "cell_type": "code",
   "execution_count": 27,
   "metadata": {},
   "outputs": [],
   "source": [
    "import numpy as np\n",
    "import matplotlib.pyplot as plt"
   ]
  },
  {
   "cell_type": "code",
   "execution_count": 28,
   "metadata": {},
   "outputs": [],
   "source": [
    "#Зададим исходные векторы x и y\n",
    "x = np.array([-0.5, -0.42, -0.33, -0.25, -0.17, -0.08, 0, 0.08, 0.17, 0.25, 0.33, 0.42, 0.5])\n",
    "y = np.array([0.061, 4.185, 7.271, 9.683, 11.319, 11.469, 11.324, 10.495, 9.659, 7.345, 5.132, 2.619, 0.069])"
   ]
  },
  {
   "cell_type": "code",
   "execution_count": 29,
   "metadata": {},
   "outputs": [],
   "source": [
    "#Реализуем МНК\n",
    "def MNK(x, y, m):\n",
    "     mat = np.array([[xj**j for j in range(m + 1)] for xj in x])\n",
    "     return np.linalg.solve(mat.T.dot(mat), mat.T.dot(y))"
   ]
  },
  {
   "cell_type": "code",
   "execution_count": 30,
   "metadata": {},
   "outputs": [],
   "source": [
    "#Реализуем вычисление многочленов P_m\n",
    "def Pm(x, a):\n",
    "    return [np.sum(xj**np.arange(len(a)) * a) for xj in x]"
   ]
  },
  {
   "cell_type": "code",
   "execution_count": 31,
   "metadata": {},
   "outputs": [],
   "source": [
    "#Найдем sigmas\n",
    "coef = []\n",
    "M = 10\n",
    "for m in range(M):\n",
    "    a = MNK(x, y, m)\n",
    "    coef.append(a)\n",
    "    \n",
    "sigmas = [np.sqrt(np.sum((Pm(x, a) - y)**2) / (y.shape[0] - a.shape[0])) for a in coef]"
   ]
  },
  {
   "cell_type": "code",
   "execution_count": 32,
   "metadata": {},
   "outputs": [
    {
     "data": {
      "image/png": "[encoded data removed]",
      "text/plain": [
       "<Figure size 432x288 with 1 Axes>"
      ]
     },
     "metadata": {
      "needs_background": "light"
     },
     "output_type": "display_data"
    }
   ],
   "source": [
    "#Построим гистограмму\n",
    "plt.bar(np.arange(10), sigmas)\n",
    "plt.show()"
   ]
  },
  {
   "cell_type": "code",
   "execution_count": 33,
   "metadata": {},
   "outputs": [],
   "source": [
    "#Из гистограммы видно, что сигмы стабилизируются начиная с m = 3, следовательно m* = 3"
   ]
  },
  {
   "cell_type": "code",
   "execution_count": 34,
   "metadata": {},
   "outputs": [
    {
     "data": {
      "image/png": "[encoded data removed]",
      "text/plain": [
       "<Figure size 432x288 with 1 Axes>"
      ]
     },
     "metadata": {
      "needs_background": "light"
     },
     "output_type": "display_data"
    }
   ],
   "source": [
    "#Построим графики многочленов P_m до m* = 3 и исходную функцию\n",
    "M = 3\n",
    "coef = []\n",
    "plt.scatter(x, y)\n",
    "X = np.linspace(min(x), max(x), 100)\n",
    "for m in range(M+1):\n",
    "    a = MNK(x, y, m)\n",
    "    ym = Pm(X, a)\n",
    "    plt.plot(X, ym, label = 'm = ' + str(m))\n",
    "plt.legend()\n",
    "plt.show()"
   ]
  },
  {
   "cell_type": "markdown",
   "metadata": {},
   "source": [
    "#### Задание 5.5.4"
   ]
  },
  {
   "cell_type": "markdown",
   "metadata": {},
   "source": [
    "Известно, что $y = c_{1} sin(a\\pi x) + c_{2} cos(b\\pi x)$, где коэффициенты $c_{1}$ и $c_{2}$ подлежат определению.\n",
    "Используя метод наименьших квадратов, определить $c_{1}$ и $c_{2}$. "
   ]
  },
  {
   "cell_type": "code",
   "execution_count": 35,
   "metadata": {},
   "outputs": [],
   "source": [
    "#Дано\n",
    "a = 3\n",
    "b = 4\n",
    "x = np.array([-1 + 0.1 * k for k in range(0, 21)])\n",
    "y = np.array([0.1931, 1.242, 1.7388, 1.7317, 1.2585, 0.1876, -1.1307, -2.0600, -2.0782, \n",
    "              -1.1179, 0.2087, 1.2317, 1.7312, 1.7316, 1.2483, 0.1898, -1.1263, -2.0577, -2.0713, -1.1084, 0.2066])\n",
    "def f1(x):\n",
    "    return np.sin(a * np.pi * x)\n",
    "\n",
    "def f2(x):\n",
    "    return np.cos(b * np.pi * x)"
   ]
  },
  {
   "cell_type": "code",
   "execution_count": 36,
   "metadata": {},
   "outputs": [
    {
     "name": "stdout",
     "output_type": "stream",
     "text": [
      "[[-3.67394040e-16  1.00000000e+00]\n",
      " [-8.09016994e-01  3.09016994e-01]\n",
      " [-9.51056516e-01 -8.09016994e-01]\n",
      " [-3.09016994e-01 -8.09016994e-01]\n",
      " [ 5.87785252e-01  3.09016994e-01]\n",
      " [ 1.00000000e+00  1.00000000e+00]\n",
      " [ 5.87785252e-01  3.09016994e-01]\n",
      " [-3.09016994e-01 -8.09016994e-01]\n",
      " [-9.51056516e-01 -8.09016994e-01]\n",
      " [-8.09016994e-01  3.09016994e-01]\n",
      " [ 0.00000000e+00  1.00000000e+00]\n",
      " [ 8.09016994e-01  3.09016994e-01]\n",
      " [ 9.51056516e-01 -8.09016994e-01]\n",
      " [ 3.09016994e-01 -8.09016994e-01]\n",
      " [-5.87785252e-01  3.09016994e-01]\n",
      " [-1.00000000e+00  1.00000000e+00]\n",
      " [-5.87785252e-01  3.09016994e-01]\n",
      " [ 3.09016994e-01 -8.09016994e-01]\n",
      " [ 9.51056516e-01 -8.09016994e-01]\n",
      " [ 8.09016994e-01  3.09016994e-01]\n",
      " [ 3.67394040e-16  1.00000000e+00]]\n"
     ]
    }
   ],
   "source": [
    "#Найдем c1 и c2 по МНК\n",
    "first = np.array([f1(xj) for xj in x])\n",
    "second = np.array([f2(xj) for xj in x])\n",
    "ar = np.column_stack((first, second))\n",
    "print(ar)"
   ]
  },
  {
   "cell_type": "code",
   "execution_count": 37,
   "metadata": {},
   "outputs": [
    {
     "name": "stdout",
     "output_type": "stream",
     "text": [
      "[5.76038694e-05 2.01690093e-01]\n"
     ]
    }
   ],
   "source": [
    "def newMNK(mat, y):\n",
    "     return np.linalg.solve(mat.T.dot(mat), mat.T.dot(y))\n",
    "    \n",
    "coef = newMNK(ar, y)\n",
    "print(coef)"
   ]
  }
 ],
 "metadata": {
  "kernelspec": {
   "display_name": "Python 3",
   "language": "python",
   "name": "python3"
  },
  "language_info": {
   "codemirror_mode": {
    "name": "ipython",
    "version": 3
   },
   "file_extension": ".py",
   "mimetype": "text/x-python",
   "name": "python",
   "nbconvert_exporter": "python",
   "pygments_lexer": "ipython3",
   "version": "3.6.7"
  }
 },
 "nbformat": 4,
 "nbformat_minor": 2
}
