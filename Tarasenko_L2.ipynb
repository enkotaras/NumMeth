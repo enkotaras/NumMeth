{
 "cells": [
  {
   "cell_type": "markdown",
   "metadata": {},
   "source": [
    "## Лабораторная работа №2\n",
    "\n",
    "### Тарасенко Андрей, БПМ161, Вариант 23\n",
    "\n",
    "#### Задание 2.1.23"
   ]
  },
  {
   "cell_type": "markdown",
   "metadata": {},
   "source": [
    "Даны два уравнения f(x) = 0 и g(x) = 0. Найти с точностью ε = 10^-10 все корни уравнений,\n",
    "содержащиеся на отрезке [a, b]. Для решения задачи использовать метод бисекции. Найти корни с помощью\n",
    "встроенной функции root."
   ]
  },
  {
   "cell_type": "markdown",
   "metadata": {},
   "source": [
    "$$f(x) = (lg(x))^2 - lg(x) - \\frac{3}{4}$$"
   ]
  },
  {
   "cell_type": "markdown",
   "metadata": {},
   "source": [
    "$$g(x) = (lg(x))^2 - 3lg(x) + \\frac{9}{4}$$"
   ]
  },
  {
   "cell_type": "markdown",
   "metadata": {},
   "source": [
    "$$[a, b] = [0.1, 35]$$"
   ]
  },
  {
   "cell_type": "code",
   "execution_count": 50,
   "metadata": {},
   "outputs": [],
   "source": [
    "import numpy as np\n",
    "import matplotlib.pyplot as plt\n",
    "from scipy import optimize"
   ]
  },
  {
   "cell_type": "code",
   "execution_count": 51,
   "metadata": {},
   "outputs": [
    {
     "data": {
      "image/png": "[encoded data removed]",
      "text/plain": [
       "<Figure size 432x288 with 1 Axes>"
      ]
     },
     "metadata": {
      "needs_background": "light"
     },
     "output_type": "display_data"
    }
   ],
   "source": [
    "#Графически локализуем корни f\n",
    "def f(x):\n",
    "    return (np.log10(x))**2 - np.log10(x) - (3 / 4)\n",
    "\n",
    "x = np.arange(0.1, 35, 0.001)\n",
    "y = f(x)\n",
    "\n",
    "plt.grid(True)\n",
    "plt.plot(x, y)\n",
    "plt.show()\n",
    "\n",
    "# Видно, что у f два корня"
   ]
  },
  {
   "cell_type": "code",
   "execution_count": 52,
   "metadata": {},
   "outputs": [],
   "source": [
    "#Метод бисекции\n",
    "delta = 1e-10\n",
    "\n",
    "def bisec(poly, a, b, delta):\n",
    "    ai = a\n",
    "    bi = b\n",
    "    k = 0\n",
    "    while((bi - ai) / 2 > delta):\n",
    "        c = (ai + bi) / 2\n",
    "        if(poly(ai) * poly(c) < 0):\n",
    "            bi = c\n",
    "        else:\n",
    "            ai = c\n",
    "        k += 1\n",
    "    return(c, k)"
   ]
  },
  {
   "cell_type": "code",
   "execution_count": 53,
   "metadata": {},
   "outputs": [
    {
     "name": "stdout",
     "output_type": "stream",
     "text": [
      "x1 =  (0.31622776591393637, 35)\n",
      "x2 =  (31.62277660176187, 38)\n"
     ]
    }
   ],
   "source": [
    "#Возьмем отрезки локализации [0.1, 5] и [5, 35] и найдем корни\n",
    "print('x1 = ', bisec(f, 0.1, 5, delta))\n",
    "print('x2 = ', bisec(f, 5, 35, delta))"
   ]
  },
  {
   "cell_type": "code",
   "execution_count": 54,
   "metadata": {},
   "outputs": [
    {
     "name": "stdout",
     "output_type": "stream",
     "text": [
      "x =  [ 0.31622777 31.6227766 ]\n"
     ]
    }
   ],
   "source": [
    "#Проверим корни с помощью функции root\n",
    "root = optimize.root(f, [0.1, 35])\n",
    "print('x = ', root.x)"
   ]
  },
  {
   "cell_type": "code",
   "execution_count": 55,
   "metadata": {},
   "outputs": [
    {
     "data": {
      "image/png": "[encoded data removed]",
      "text/plain": [
       "<Figure size 432x288 with 1 Axes>"
      ]
     },
     "metadata": {
      "needs_background": "light"
     },
     "output_type": "display_data"
    }
   ],
   "source": [
    "#Теперь функция g, графически локализуем корни\n",
    "def g(x):\n",
    "    return (np.log10(x))**2 - 3 * np.log10(x) + (9 / 4)\n",
    "\n",
    "y = g(x)\n",
    "\n",
    "plt.grid(True)\n",
    "plt.plot(x, y)\n",
    "plt.show()\n",
    "\n",
    "#Можно заметить, что g раскладывается в полный квадрат, поэтому существует только один корень\n",
    "#Из графика видно, что корень лежит на отрезке [25, 35]"
   ]
  },
  {
   "cell_type": "code",
   "execution_count": 56,
   "metadata": {},
   "outputs": [
    {
     "name": "stdout",
     "output_type": "stream",
     "text": [
      "x1 =  (34.99999999985448, 36)\n"
     ]
    }
   ],
   "source": [
    "#Найдем корень с помощью метода бисекции\n",
    "print('x1 = ', bisec(g, 25, 35, delta))"
   ]
  },
  {
   "cell_type": "code",
   "execution_count": 57,
   "metadata": {},
   "outputs": [
    {
     "name": "stdout",
     "output_type": "stream",
     "text": [
      "x =  [31.62277822 31.62277463]\n"
     ]
    }
   ],
   "source": [
    "#Проверим корень с помощью функции root\n",
    "root = optimize.root(g, [25, 35])\n",
    "print('x = ', root.x)"
   ]
  },
  {
   "cell_type": "code",
   "execution_count": 58,
   "metadata": {},
   "outputs": [],
   "source": [
    "#Корень для g, найденный методом бесекции не верен, это связано с тем, что корень кратный\n",
    "#Вследствие чего нельзя выбрать отрезок на котором g меняла бы знак "
   ]
  },
  {
   "cell_type": "markdown",
   "metadata": {},
   "source": [
    "#### Задание 2.6.4"
   ]
  },
  {
   "cell_type": "markdown",
   "metadata": {},
   "source": [
    "Локализовать корни уравнения f(x) = 0. Найти их с точностью ε = 10^-5 и ε = 10^-12 , используя\n",
    "метод Ньютона и метод секущих. Сравнить скорость сходимости методов (по числу итераций) для каждого значения ε."
   ]
  },
  {
   "cell_type": "code",
   "execution_count": 59,
   "metadata": {},
   "outputs": [],
   "source": [
    "#Зададим функцию f\n",
    "def f(x):\n",
    "    return np.sqrt(x) * np.exp(np.cos(x)) - 1\n",
    "\n",
    "#Зададим производную f\n",
    "def df(x):\n",
    "    return -np.sqrt(x) * np.sin(x) * np.exp(np.cos(x)) + np.exp(np.cos(x)) / (2 * np.sqrt(x))\n",
    "\n",
    "#Реализуем метод Ньютона\n",
    "\n",
    "def newton(x0, f, df, delta):\n",
    "    k = 0\n",
    "    while True:\n",
    "        xn = x0 - f(x0) / df(x0)\n",
    "        k += 1\n",
    "        if np.abs(xn - x0) < delta:\n",
    "            return (xn, k)\n",
    "        x0 = xn\n",
    "        \n",
    "#Реализуем метод секущих\n",
    "def sec(x0, x1, f, delta):\n",
    "    k = 0\n",
    "    while True:\n",
    "        xn = x1 - (x0 - x1) / (f(x0) - f(x1)) * f(x1)\n",
    "        k += 1\n",
    "        if np.abs(xn - x1) < delta:\n",
    "            return (xn, k)\n",
    "        x0 = x1\n",
    "        x1 = xn\n",
    "    "
   ]
  },
  {
   "cell_type": "code",
   "execution_count": 60,
   "metadata": {},
   "outputs": [
    {
     "data": {
      "image/png": "[encoded data removed]",
      "text/plain": [
       "<Figure size 432x288 with 1 Axes>"
      ]
     },
     "metadata": {
      "needs_background": "light"
     },
     "output_type": "display_data"
    }
   ],
   "source": [
    "#Графически локализуем корни f\n",
    "x = np.arange(0, 5, 0.001)\n",
    "y = f(x)\n",
    "\n",
    "plt.grid(True)\n",
    "plt.plot(x, y)\n",
    "plt.show()"
   ]
  },
  {
   "cell_type": "code",
   "execution_count": 61,
   "metadata": {},
   "outputs": [
    {
     "name": "stdout",
     "output_type": "stream",
     "text": [
      "Первый корень:  (0.13793050341650223, 5)\n",
      "Второй корень:  (1.8965431395663275, 4)\n",
      "Третий корень:  (3.9544562369260587, 5)\n"
     ]
    }
   ],
   "source": [
    "#Найдем корни методом Ньютона(delta = 1e-5)\n",
    "print('Первый корень: ', newton(0.01, f, df, 1e-5))\n",
    "print('Второй корень: ', newton(1.5, f, df, 1e-5))\n",
    "print('Третий корень: ', newton(3.5, f, df, 1e-5))"
   ]
  },
  {
   "cell_type": "code",
   "execution_count": 62,
   "metadata": {},
   "outputs": [
    {
     "name": "stdout",
     "output_type": "stream",
     "text": [
      "Первый корень:  (0.13793050341719648, 6)\n",
      "Второй корень:  (1.896543139566341, 5)\n",
      "Третий корень:  (3.9544562369160947, 7)\n"
     ]
    }
   ],
   "source": [
    "#Найдем корни методом Ньютона(delta = 1e-12)\n",
    "print('Первый корень: ', newton(0.01, f, df, 1e-12))\n",
    "print('Второй корень: ', newton(1.5, f, df, 1e-12))\n",
    "print('Третий корень: ', newton(3.5, f, df, 1e-12))"
   ]
  },
  {
   "cell_type": "code",
   "execution_count": 63,
   "metadata": {},
   "outputs": [
    {
     "name": "stdout",
     "output_type": "stream",
     "text": [
      "Первый корень:  (0.1379305028179553, 6)\n",
      "Второй корень:  (1.8965431395645453, 5)\n",
      "Третий корень:  (3.9544562354133026, 6)\n"
     ]
    }
   ],
   "source": [
    "#Найдем корни методом секущих(delta = 1e-5)\n",
    "print('Первый корень: ', sec(0.01, 0.02, f, 1e-5))\n",
    "print('Второй корень: ', sec(1.5, 1.6, f, 1e-5))\n",
    "print('Третий корень: ', sec(3.5, 3.6, f, 1e-5))"
   ]
  },
  {
   "cell_type": "code",
   "execution_count": 64,
   "metadata": {},
   "outputs": [
    {
     "name": "stdout",
     "output_type": "stream",
     "text": [
      "Первый корень:  (0.13793050341719645, 8)\n",
      "Второй корень:  (1.8965431395663408, 7)\n",
      "Третий корень:  (3.9544562369160947, 8)\n"
     ]
    }
   ],
   "source": [
    "#Найдем корни методом секущих(delta = 1e-12)\n",
    "print('Первый корень: ', sec(0.01, 0.02, f, 1e-12))\n",
    "print('Второй корень: ', sec(1.5, 1.6, f, 1e-12))\n",
    "print('Третий корень: ', sec(3.5, 3.6, f, 1e-12))"
   ]
  },
  {
   "cell_type": "code",
   "execution_count": 65,
   "metadata": {},
   "outputs": [],
   "source": [
    "#Видно, что скорость сходимости при использовании метода Ньютона выше, чем при методе секущих"
   ]
  }
 ],
 "metadata": {
  "kernelspec": {
   "display_name": "Python 3",
   "language": "python",
   "name": "python3"
  },
  "language_info": {
   "codemirror_mode": {
    "name": "ipython",
    "version": 3
   },
   "file_extension": ".py",
   "mimetype": "text/x-python",
   "name": "python",
   "nbconvert_exporter": "python",
   "pygments_lexer": "ipython3",
   "version": "3.6.7"
  }
 },
 "nbformat": 4,
 "nbformat_minor": 2
}
