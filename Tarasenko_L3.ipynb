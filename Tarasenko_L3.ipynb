{
 "cells": [
  {
   "cell_type": "markdown",
   "metadata": {},
   "source": [
    "## Лабораторная работа №3\n",
    "\n",
    "### Тарасенко Андрей, БПМ161, Вариант 23\n",
    "\n",
    "#### Задание 3.1.23"
   ]
  },
  {
   "cell_type": "markdown",
   "metadata": {},
   "source": [
    "Дана система уравнений Ax = b порядка n = 5. Исследовать зависимость погрешности решения x от\n",
    "погрешностей правой части системы b. $$a_{ij} = \\frac{11.7}{(1+c)^7}$$"
   ]
  },
  {
   "cell_type": "code",
   "execution_count": 1,
   "metadata": {},
   "outputs": [],
   "source": [
    "import numpy as np\n",
    "import copy"
   ]
  },
  {
   "cell_type": "code",
   "execution_count": 2,
   "metadata": {},
   "outputs": [
    {
     "name": "stdout",
     "output_type": "stream",
     "text": [
      "[[1.17000000e+01 1.17000000e+01 1.17000000e+01 1.17000000e+01\n",
      "  1.17000000e+01]\n",
      " [1.17000000e+01 2.74529034e-03 6.77438185e-05 6.09250961e-06\n",
      "  1.01855541e-06]\n",
      " [1.17000000e+01 6.77438185e-05 1.01855541e-06 7.52235550e-08\n",
      "  1.13128949e-08]\n",
      " [1.17000000e+01 6.09250961e-06 7.52235550e-08 5.16377993e-09\n",
      "  7.47521400e-10]\n",
      " [1.17000000e+01 1.01855541e-06 1.13128949e-08 7.47521400e-10\n",
      "  1.06106811e-10]]\n",
      "[23. 23. 23. 23. 23.]\n"
     ]
    }
   ],
   "source": [
    "#Зададим матрицу А и вектор b\n",
    "n = 5 \n",
    "N = 23\n",
    "\n",
    "def c(i, j):\n",
    "    return 0.1*N*i*j\n",
    "\n",
    "A = np.array([[11.7 / ((1 + c(i, j))**7) for i in range(n)] for j in range(n)])\n",
    "b = np.array([float(N) for i in range(n)])\n",
    "print(A)\n",
    "print(b)"
   ]
  },
  {
   "cell_type": "code",
   "execution_count": 3,
   "metadata": {},
   "outputs": [
    {
     "name": "stdout",
     "output_type": "stream",
     "text": [
      "[[ 1.96581197]\n",
      " [-0.        ]\n",
      " [-0.        ]\n",
      " [ 0.        ]\n",
      " [-0.        ]]\n"
     ]
    }
   ],
   "source": [
    "#Найдем решение с помощью функции np.linalg.solve\n",
    "x = np.linalg.solve(A, b)\n",
    "print(x.reshape(5, 1))"
   ]
  },
  {
   "cell_type": "code",
   "execution_count": 4,
   "metadata": {},
   "outputs": [
    {
     "name": "stdout",
     "output_type": "stream",
     "text": [
      "341005172334.97076\n"
     ]
    }
   ],
   "source": [
    "#Найдем число обусловленности\n",
    "cA = np.linalg.cond(A)\n",
    "print(cA)"
   ]
  },
  {
   "cell_type": "code",
   "execution_count": 5,
   "metadata": {},
   "outputs": [
    {
     "name": "stdout",
     "output_type": "stream",
     "text": [
      "[[5.89243363e-06]\n",
      " [1.53410334e+02]\n",
      " [3.03958283e+04]\n",
      " [3.16752714e+05]\n",
      " [2.86510296e+05]]\n"
     ]
    }
   ],
   "source": [
    "#Найдем вектор d, вектор относительных погрешностей\n",
    "delta = 1e-4\n",
    "d = np.zeros(n)\n",
    "\n",
    "for i in range(n):\n",
    "    b1 = b.copy()\n",
    "    b1[i] += delta\n",
    "    x1 = np.linalg.solve(A, b1)\n",
    "    d[i] = np.linalg.norm(x - x1, np.inf) / np.linalg.norm(x, np.inf)\n",
    "print(d.reshape(5,1))"
   ]
  },
  {
   "cell_type": "code",
   "execution_count": 6,
   "metadata": {},
   "outputs": [
    {
     "name": "stdout",
     "output_type": "stream",
     "text": [
      "Номер =  4\n",
      "Значение =  316752.71357452014\n"
     ]
    }
   ],
   "source": [
    "#Найдем компонентыъу, оказывающую наибольшее влияние на погрешность решения\n",
    "print('Номер = ', np.argmax(d) + 1)\n",
    "print('Значение = ', np.max(d))"
   ]
  },
  {
   "cell_type": "code",
   "execution_count": 7,
   "metadata": {},
   "outputs": [
    {
     "name": "stdout",
     "output_type": "stream",
     "text": [
      "34100517.233497076\n",
      "True\n"
     ]
    }
   ],
   "source": [
    "#Вычислим теоретическую погрешность решения и сравним ее с практической\n",
    "th = cA * delta\n",
    "print(th)\n",
    "print(np.max(d) < th)"
   ]
  },
  {
   "cell_type": "markdown",
   "metadata": {},
   "source": [
    "Теоретическая погрешность больше практической, как и должно было получиться, так как теор. погр. - оценка сверху."
   ]
  },
  {
   "cell_type": "markdown",
   "metadata": {},
   "source": [
    "#### Задание 3.3.6"
   ]
  },
  {
   "cell_type": "markdown",
   "metadata": {},
   "source": [
    "Дана матрица A. Найти число обусловленности матрицы, используя вычислительный\n",
    "эксперимент."
   ]
  },
  {
   "cell_type": "code",
   "execution_count": 8,
   "metadata": {},
   "outputs": [
    {
     "name": "stdout",
     "output_type": "stream",
     "text": [
      "[[ 611  196 -192  407]\n",
      " [ 196  899  113 -192]\n",
      " [-192  113  899  196]\n",
      " [ 407 -192  196  611]]\n"
     ]
    }
   ],
   "source": [
    "#Исходная матрица А\n",
    "A = np.array([[611, 196, -192, 407],\n",
    "              [196, 899, 113, -192],\n",
    "              [-192, 113, 899, 196],\n",
    "              [407, -192, 196, 611]])\n",
    "print(A)"
   ]
  },
  {
   "cell_type": "code",
   "execution_count": 9,
   "metadata": {},
   "outputs": [
    {
     "name": "stdout",
     "output_type": "stream",
     "text": [
      "[[1. 0. 0. 0.]\n",
      " [0. 1. 0. 0.]\n",
      " [0. 0. 1. 0.]\n",
      " [0. 0. 0. 1.]]\n"
     ]
    }
   ],
   "source": [
    "#Зададим 4 линейно-независимых вектора\n",
    "n = 4\n",
    "b = np.eye(4)\n",
    "print(b)"
   ]
  },
  {
   "cell_type": "code",
   "execution_count": 10,
   "metadata": {},
   "outputs": [
    {
     "name": "stdout",
     "output_type": "stream",
     "text": [
      "[[ 0.04059321 -0.01979786  0.01979398 -0.03961087]\n",
      " [-0.01979786  0.01090224 -0.00991408  0.01979398]\n",
      " [ 0.01979398 -0.00991408  0.01090224 -0.01979786]\n",
      " [-0.03961087  0.01979398 -0.01979786  0.04059321]]\n"
     ]
    }
   ],
   "source": [
    "#Решим систему\n",
    "x = np.array([np.linalg.solve(A, b[i]) for i in range(n)])\n",
    "print(x)"
   ]
  },
  {
   "cell_type": "code",
   "execution_count": 11,
   "metadata": {},
   "outputs": [
    {
     "name": "stdout",
     "output_type": "stream",
     "text": [
      "[[0.06325019]\n",
      " [0.03163708]\n",
      " [0.03163708]\n",
      " [0.06325019]]\n"
     ]
    }
   ],
   "source": [
    "#Найдем нормированное отношение\n",
    "nA = np.array([np.linalg.norm(x[i]) / np.linalg.norm(b[i]) for i in range(n)])\n",
    "print(nA.reshape(4, 1))"
   ]
  },
  {
   "cell_type": "code",
   "execution_count": 12,
   "metadata": {},
   "outputs": [
    {
     "name": "stdout",
     "output_type": "stream",
     "text": [
      "0.06325019067480653\n"
     ]
    }
   ],
   "source": [
    "#Найдем норму обратной матрицы\n",
    "obrnA = np.max(nA)\n",
    "print(obrnA)"
   ]
  },
  {
   "cell_type": "code",
   "execution_count": 13,
   "metadata": {},
   "outputs": [
    {
     "name": "stdout",
     "output_type": "stream",
     "text": [
      "109.93530906959117\n"
     ]
    }
   ],
   "source": [
    "#Найдем число обусловленности\n",
    "cA = np.linalg.norm(A) * obrnA\n",
    "print(cA)"
   ]
  }
 ],
 "metadata": {
  "kernelspec": {
   "display_name": "Python 3",
   "language": "python",
   "name": "python3"
  },
  "language_info": {
   "codemirror_mode": {
    "name": "ipython",
    "version": 3
   },
   "file_extension": ".py",
   "mimetype": "text/x-python",
   "name": "python",
   "nbconvert_exporter": "python",
   "pygments_lexer": "ipython3",
   "version": "3.6.7"
  }
 },
 "nbformat": 4,
 "nbformat_minor": 2
}
